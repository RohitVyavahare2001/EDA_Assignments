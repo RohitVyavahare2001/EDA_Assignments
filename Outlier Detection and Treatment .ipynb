{
 "cells": [
  {
   "cell_type": "markdown",
   "id": "7de94866",
   "metadata": {},
   "source": [
    "# Question 1\n",
    "Write a python code to perform outlier detection using box plot, missing value analysis\n",
    "using python functions and treat them using descriptive measures."
   ]
  },
  {
   "cell_type": "code",
   "execution_count": 2,
   "id": "e1ee6345",
   "metadata": {},
   "outputs": [
    {
     "name": "stdout",
     "output_type": "stream",
     "text": [
      "0    2\n",
      "dtype: int64\n",
      "AxesSubplot(0.125,0.11;0.775x0.77)\n",
      "0    2\n",
      "dtype: int64\n",
      "        0\n",
      "0   False\n",
      "1   False\n",
      "2   False\n",
      "3   False\n",
      "4   False\n",
      "5   False\n",
      "6   False\n",
      "7   False\n",
      "8   False\n",
      "9   False\n",
      "10  False\n",
      "11  False\n",
      "12  False\n",
      "13  False\n",
      "14  False\n",
      "15  False\n",
      "16  False\n",
      "using mean : 0    52.0\n",
      "dtype: float64\n",
      "using median : <bound method NDFrame._add_numeric_operations.<locals>.median of         0\n",
      "0     1.0\n",
      "1     2.0\n",
      "2     3.0\n",
      "3     4.0\n",
      "4     5.0\n",
      "5     6.0\n",
      "6    52.0\n",
      "7     7.0\n",
      "8     8.0\n",
      "9     9.0\n",
      "10  100.0\n",
      "11  290.0\n",
      "12   52.0\n",
      "13  456.0\n",
      "14   -1.0\n",
      "15  -23.0\n",
      "16  -87.0>\n",
      "using mode : <bound method DataFrame.mode of         0\n",
      "0     1.0\n",
      "1     2.0\n",
      "2     3.0\n",
      "3     4.0\n",
      "4     5.0\n",
      "5     6.0\n",
      "6    52.0\n",
      "7     7.0\n",
      "8     8.0\n",
      "9     9.0\n",
      "10  100.0\n",
      "11  290.0\n",
      "12   52.0\n",
      "13  456.0\n",
      "14   -1.0\n",
      "15  -23.0\n",
      "16  -87.0>\n",
      "using std deviation : 0    129.870127\n",
      "dtype: float64\n"
     ]
    },
    {
     "data": {
      "image/png": "[encoded data removed]",
      "text/plain": [
       "<Figure size 640x480 with 1 Axes>"
      ]
     },
     "metadata": {},
     "output_type": "display_data"
    }
   ],
   "source": [
    "import pandas as pd\n",
    "import numpy as np\n",
    "import matplotlib.pyplot as plt\n",
    "import seaborn as sns\n",
    "data=pd.DataFrame([1,2,3,4,5,6,np.nan,7,8,9,100,290,np.nan,456,-1,-23,-87])\n",
    "print(data.isnull().sum())\n",
    "print(sns.boxplot(data))\n",
    "#missing value analysis\n",
    "print(data.isnull().sum())\n",
    "#treating them with descriptive measures\n",
    "mean=data.mean()\n",
    "data=data.fillna(mean)\n",
    "#check for null values\n",
    "print(data.isnull())\n",
    "print(\"using mean :\",data.mean())\n",
    "\n",
    "print(\"using median :\",data.median)\n",
    "\n",
    "print(\"using mode :\",data.mode)\n",
    "\n",
    "print(\"using std deviation :\",data.std())\n"
   ]
  },
  {
   "cell_type": "markdown",
   "id": "7def4033",
   "metadata": {},
   "source": [
    "# Question 2\n",
    "Write a program to generate univariate distribution and find its mean and standard\n",
    "deviation."
   ]
  },
  {
   "cell_type": "code",
   "execution_count": 3,
   "id": "92b26136",
   "metadata": {},
   "outputs": [
    {
     "name": "stdout",
     "output_type": "stream",
     "text": [
      "0.009174415724341195\n",
      "1.0003322700408364\n"
     ]
    }
   ],
   "source": [
    "import pandas as pd\n",
    "import numpy as np\n",
    "import matplotlib.pyplot as plt\n",
    "import seaborn as sns\n",
    "data = np.random.normal(0,1,1000)\n",
    "print(np.mean(data))\n",
    "print(np.std(data))\n",
    "\n"
   ]
  },
  {
   "cell_type": "markdown",
   "id": "a43a18b5",
   "metadata": {},
   "source": [
    "# Question 3\n",
    "Write a program to identify outliers in the data using standard deviations."
   ]
  },
  {
   "cell_type": "code",
   "execution_count": 51,
   "id": "accc05d9",
   "metadata": {},
   "outputs": [],
   "source": [
    "import numpy as np\n",
    "\n",
    "def code(data):\n",
    "    mean=np.mean(data)\n",
    "    print(mean)\n",
    "    stdi=np.std(data)\n",
    "    print(stdi)\n",
    "    threshold=3\n",
    "    outliers=[]\n",
    "    for x in data:\n",
    "        if (x>mean+(stdi*threshold)) or (x<mean-(stdi*threshold)):\n",
    "            outliers.append(x)\n",
    "    return outliers\n",
    "    \n"
   ]
  },
  {
   "cell_type": "code",
   "execution_count": 52,
   "id": "8572e59f",
   "metadata": {},
   "outputs": [
    {
     "name": "stdout",
     "output_type": "stream",
     "text": [
      "[1000, 1, 1, 1, 1, 1, 1, 1, 1, 1, 1, 1, 1, 1, 1, 1, 1, 1, 1, 1, 1, 1, 1, 1, 1, 1, 1, 1, 1, 1, 1, 1, 1, 1, 1, 1, 1, 1, 1, 1, 1, 1, 1, 1, 1, 1, 1, 1, 1, 1, 1, 1, 1, 1, 1, 1, 1, 1, 1, 1, 1, 1, 1, 1, 1, 1, 1, 1, 1, 1, 1, 1, 1, 1, 1, 1, 1, 1, 1, 1, 1, 1, 1, 1, 1, 1, 1, 1, 1, 1, 1, 1, 1, 1, 1, 1, 1, 1, 1, 1, 1, 1, 1, 1, 1, 1, 1, 1, 1, 1, 1, 1, 1, 1, 1, 1, 1, 1, 1, 1, 1, 1, 1, 1, 1, 1, 1, 1, 1, 1, 1, 1, 1, 1, 1, 1, 1, 1, 1, 1, 1, 1, 1, 1, 1, 1, 1, 1, 1, 1, 1, 1, 1, 1, 1, 1, 1, 1, 1, 1, 1, 1, 1, 1, 1, 1, 1, 1, 1, 1, 1, 1, 1, 1, 1, 1, 1, 1, 1, 1, 1, 1, 1, 1, 1, 1, 1, 1, 1, 1, 1, 1, 1, 1, 1, 1, 1, 1, 1, 1, 1, 1, 1, 1, 1, 1, 1, 1, 1, 1, 1, 1, 1, 1, 1, 1, 1, 1, 1, 1, 1, 1, 1, 1, 1, 1, 1, 1, 1, 1, 1, 1, 1, 1, 1, 1, 1, 1, 1, 1, 1, 1, 1, 1, 1, 1, 1, 1, 1, 1, 1, 1, 1, 1, 1, 1, 1, 1, 1, 1, 1, 1, 1, 1, 1, 1, 1, 1, 1, 1, 1, 1, 1, 1, 1, 1, 1, 1, 1, 1, 1, 1, 1, 1, 1, 1, 1, 1, 1, 1, 1, 1, 1, 1, 1, 1, 1, 1, 1, 1, 1, 1, 1, 1, 1, 1, 1, 1, 1, 1, 1, 1, 1, 1, 1, 1, 1, 1, 1, 1, 1, 1, 1, 1, 1, 1, 1, 1, 1, 1, 1, 1, 1, 1, 1, 1, 1, 1, 1, 1, 1, 1, 1, 1, 1, 1, 1, 1, 1, 1, 1, 1, 1, 1, 1, 1, 1, 1, 1, 1, 1, 1, 1, 1, 1, 1, 1, 1, 1, 1, 1, 1, 1, 1, 1, 1, 1, 1, 1, 1, 1, 1, 1, 1, 1, 1, 1, 1, 1, 1, 1, 1, 1, 1, 1, 1, 1, 1, 1, 1, 1, 1, 1, 1, 1, 1, 1, 1, 1, 1, 1, 1, 1, 1, 1, 1, 1, 1, 1, 1, 1, 1, 1, 1, 1, 1, 1, 1, 1, 1, 1, 1, 1, 1, 1, 1, 1, 1, 1, 1, 1, 1, 1, 1, 1, 1, 1, 1, 1, 1, 1, 1, 1, 1, 1, 1, 1, 1, 1, 1, 1, 1, 1, 1, 1, 1, 1, 1, 1, 1, 1, 1, 1, 1, 1, 1, 1, 1, 1, 1, 1, 1, 1, 1, 1, 1, 1, 1, 1, 1, 1, 1, 1, 1, 1, 1, 1, 1, 1, 1, 1, 1, 1, 1, 1, 1, 1, 1, 1, 1, 1, 1, 1, 1, 1, 1, 1, 1, 1, 1, 1, 1, 1, 1, 1, 1, 1, 1, 1, 1, 1, 1, 1, 1, 1, 1, 1, 1, 1, 1, 1, 1, 1, 1, 1, 1, 1, 1, 1, 1, 1, 1, 1, 1, 1, 1, 1, 1, 1, 1, 1, 1, 1, 1, 1, 1, 1, 1, 1, 1, 1, 1, 1, 1, 1, 1, 1, 1, 1, 1, 1, 1, 1, 1, 1, 1, 1, 1, 1, 1, 1, 1, 1, 1, 1, 1, 1, 1, 1, 1, 1, 1, 1, 1, 1, 1, 1, 1, 1, 1, 1, 1, 1, 1, 1, 1, 1, 1, 1, 1, 1, 1, 1, 1, 1, 1, 1, 1, 1, 1, 1, 1, 1, 1, 1, 1, 1, 1, 1, 1, 1, 1, 1, 1, 1, 1, 1, 1, 1, 1, 1, 1, 1, 1, 1, 1, 1, 1, 1, 1, 1, 1, 1, 1, 1, 1, 1, 1, 1, 1, 1, 1, 1, 1, 1, 1, 1, 1, 1, 1, 1, 1, 1, 1, 1, 1, 1, 1, 1, 1, 1, 1, 1, 1, 1, 1, 1, 1, 1, 1, 1, 1, 1, 1, 1, 1, 1, 1, 1, 1, 1, 1, 1, 1, 1, 1, 1, 1, 1, 1, 1, 1, 1, 1, 1, 1, 1, 1, 1, 1, 1, 1, 1, 1, 1, 1, 1, 1, 1, 1, 1, 1, 1, 1, 1, 1, 1, 1, 1, 1, 1, 1, 1, 1, 1, 1, 1, 1, 1, 1, 1, 1, 1, 1, 1, 1, 1, 1, 1, 1, 1, 1, 1, 1, 1, 1, 1, 1, 1, 1, 1, 1, 1, 1, 1, 1, 1, 1, 1, 1, 1, 1, 1, 1, 1, 1, 1, 1, 1, 1, 1, 1, 1, 1, 1, 1, 1, 1, 1, 1, 1, 1, 1, 1, 1, 1, 1, 1, 1, 1, 1, 1, 1, 1, 1, 1, 1, 1, 1, 1, 1, 1, 1, 1, 1, 1, 1, 1, 1, 1, 1, 1, 1, 1, 1, 1, 1, 1, 1, 1, 1, 1, 1, 1, 1, 1, 1, 1, 1, 1, 1, 1, 1, 1, 1, 1, 1, 1, 1, 1, 1, 1, 1, 1, 1, 1, 1, 1, 1, 1, 1, 1, 1, 1, 1, 1, 1, 1, 1, 1, 1, 1, 1, 1, 1, 1, 1, 1, 1, 1, 1, 1, 1, 1, 1, 1, 1, 1, 1, 1, 1, 1, 1, 1, 1, 1, 1, 1, 1, 1, 1, 1, 1, 1, 1, 1, 1, 1, 1, 1, 1, 1, 1, 1, 1, 1, 1, 1, 1, 1, 1, 1, 1, 1, 1, 1, 1, 1, 1, 1, 1, 1, 1, 1, 1, 1, 1, 1, 1, 1, 1, 1, 1, 1, 1, 1, 1, 1, 1, 1, 1, 1, 1, 1, 1, 1, 1, 1, 1, 1, 1, 1, 1, 1, 1, 1, 1, 1, 1, 1, 1, 1, 1, 1, 1, 1, 1, 1, 1, 1, 1]\n",
      "1.998001998001998\n",
      "31.559594230851253\n",
      "[1000]\n"
     ]
    }
   ],
   "source": [
    "if __name__==\"__main__\":\n",
    "    a1=[1 for i in range(1000)]\n",
    "    a1.insert(0,1000)\n",
    "    print(a1)\n",
    "    s=code(a1)\n",
    "    print(s)"
   ]
  },
  {
   "cell_type": "code",
   "execution_count": null,
   "id": "b12e4227",
   "metadata": {},
   "outputs": [],
   "source": []
  },
  {
   "cell_type": "code",
   "execution_count": null,
   "id": "803fd5c5",
   "metadata": {},
   "outputs": [],
   "source": []
  },
  {
   "cell_type": "markdown",
   "id": "bb9768b0",
   "metadata": {},
   "source": [
    "# Question 4\n",
    "Write a program to remove the outliers using standard deviation"
   ]
  },
  {
   "cell_type": "code",
   "execution_count": 65,
   "id": "a2cbe39a",
   "metadata": {},
   "outputs": [],
   "source": [
    "import pandas as pd\n",
    "import numpy as np\n",
    "def remove(data):\n",
    "    mean=np.mean(data)\n",
    "    sd=np.std(data)\n",
    "    threshold=3\n",
    "    print(\"mean is\",mean)\n",
    "    print(\"standard deviation is\",sd)\n",
    "    upper=mean+(threshold*sd)\n",
    "    lower=mean-(threshold*sd)\n",
    "    return[x for x in data if x>lower or x<upper]\n",
    "   "
   ]
  },
  {
   "cell_type": "code",
   "execution_count": null,
   "id": "b2811ad9",
   "metadata": {},
   "outputs": [],
   "source": []
  },
  {
   "cell_type": "code",
   "execution_count": null,
   "id": "017eb150",
   "metadata": {},
   "outputs": [],
   "source": []
  },
  {
   "cell_type": "code",
   "execution_count": null,
   "id": "e12df9d5",
   "metadata": {},
   "outputs": [],
   "source": []
  },
  {
   "cell_type": "code",
   "execution_count": null,
   "id": "6a7c15f3",
   "metadata": {},
   "outputs": [],
   "source": []
  },
  {
   "cell_type": "markdown",
   "id": "743e9036",
   "metadata": {},
   "source": [
    "# Question 5\n",
    "Write a program to find the interquartile range of the data."
   ]
  },
  {
   "cell_type": "code",
   "execution_count": 93,
   "id": "55bf94d8",
   "metadata": {},
   "outputs": [],
   "source": [
    "import pandas as pd\n",
    "import numpy as np\n",
    "data = [1, 2, 3, 4, 100, 200, 300]"
   ]
  },
  {
   "cell_type": "code",
   "execution_count": 11,
   "id": "3e99dba8",
   "metadata": {},
   "outputs": [
    {
     "data": {
      "text/plain": [
       "array([147.5])"
      ]
     },
     "execution_count": 11,
     "metadata": {},
     "output_type": "execute_result"
    }
   ],
   "source": [
    "iqr=np.percentile(data,[25,75])\n",
    "iqr=np.percentile(data,[75])-np.percentile(data,[25])\n",
    "iqr"
   ]
  },
  {
   "cell_type": "markdown",
   "id": "f52e0a85",
   "metadata": {},
   "source": [
    "# Question 6\n",
    "Write a program to calculate outlier cutoff"
   ]
  },
  {
   "cell_type": "code",
   "execution_count": 12,
   "id": "1674c163",
   "metadata": {},
   "outputs": [],
   "source": [
    "import pandas as pd\n",
    "import numpy as np\n",
    "def cutoff(data):\n",
    "    \n",
    "    q3,q1=np.percentile(data,[25,75])\n",
    "    iqr=q3-q1\n",
    "    upper_cutoff=q3+(1.5*iqr)\n",
    "    lower_cutoff=q1-(1.5*iqr)\n",
    "    return(upper_cutoff,lower_cutoff)"
   ]
  },
  {
   "cell_type": "code",
   "execution_count": 13,
   "id": "5db27755",
   "metadata": {},
   "outputs": [],
   "source": [
    "data=[1, 2, 3, 4, 5, 6, 7, 8, 9, 10, 20, 30, 40, 50, 60, 70, 80, 90, 100]"
   ]
  },
  {
   "cell_type": "code",
   "execution_count": 14,
   "id": "0ffaa009",
   "metadata": {},
   "outputs": [
    {
     "data": {
      "text/plain": [
       "(-68.75, 129.25)"
      ]
     },
     "execution_count": 14,
     "metadata": {},
     "output_type": "execute_result"
    }
   ],
   "source": [
    "cutoff(data)"
   ]
  },
  {
   "cell_type": "markdown",
   "id": "2b0db653",
   "metadata": {},
   "source": [
    "\n",
    "# Question 7\n",
    "Write a program to identify outliers and remove them using IQR"
   ]
  },
  {
   "cell_type": "code",
   "execution_count": 155,
   "id": "3d3adad2",
   "metadata": {},
   "outputs": [],
   "source": [
    "import pandas as pd\n",
    "import numpy as np\n",
    "data=[1,2,2,3,4,5,6,7,10000]"
   ]
  },
  {
   "cell_type": "code",
   "execution_count": 156,
   "id": "0c7291a1",
   "metadata": {},
   "outputs": [],
   "source": [
    "def remove_outliers(data):\n",
    "    \n",
    "    q1,q3=np.percentile(data,[25,75])\n",
    "    iqr=q3-q1\n",
    "    upper_cutoff=q3+(1.5*iqr)\n",
    "    lower_cutoff=q1-(1.5*iqr)\n",
    "    return[x for x in data if upper_cutoff>x and lower_cutoff<x]\n",
    "       \n",
    "    #return upper_cutoff,lower_cutoff\n",
    "     "
   ]
  },
  {
   "cell_type": "code",
   "execution_count": 157,
   "id": "fbef7b37",
   "metadata": {},
   "outputs": [
    {
     "data": {
      "text/plain": [
       "[1, 2, 2, 3, 4, 5, 6, 7]"
      ]
     },
     "execution_count": 157,
     "metadata": {},
     "output_type": "execute_result"
    }
   ],
   "source": [
    "remove_outliers(data)"
   ]
  },
  {
   "cell_type": "markdown",
   "id": "038d1ddf",
   "metadata": {},
   "source": [
    "# Question 8\n",
    "\n",
    "write a program to generate a sample array and calculate the mean,median, mode,std dev"
   ]
  },
  {
   "cell_type": "code",
   "execution_count": 6,
   "id": "676a220b",
   "metadata": {},
   "outputs": [],
   "source": [
    "import pandas as pd\n",
    "import numpy as np\n",
    "arr=np.random.rand(5,2)"
   ]
  },
  {
   "cell_type": "code",
   "execution_count": 7,
   "id": "de865528",
   "metadata": {},
   "outputs": [
    {
     "name": "stdout",
     "output_type": "stream",
     "text": [
      "mean of array:  0.4139622536481036\n",
      "median of array:  0.30220810305665247\n",
      "mode of array:  [[0.04689069 0.15925531]]\n",
      "std dev of array:  0.3482036479865519\n"
     ]
    },
    {
     "name": "stderr",
     "output_type": "stream",
     "text": [
      "C:\\Users\\ROHIT\\AppData\\Local\\Temp\\ipykernel_26064\\689072353.py:4: FutureWarning: Unlike other reduction functions (e.g. `skew`, `kurtosis`), the default behavior of `mode` typically preserves the axis it acts along. In SciPy 1.11.0, this behavior will change: the default value of `keepdims` will become False, the `axis` over which the statistic is taken will be eliminated, and the value None will no longer be accepted. Set `keepdims` to True or False to avoid this warning.\n",
      "  print(\"mode of array: \",stats.mode(arr)[0])\n"
     ]
    }
   ],
   "source": [
    "print(\"mean of array: \",np.mean(arr))\n",
    "print(\"median of array: \",np.median(arr))\n",
    "from scipy import stats\n",
    "print(\"mode of array: \",stats.mode(arr)[0])\n",
    "print(\"std dev of array: \",np.std(arr))"
   ]
  },
  {
   "cell_type": "markdown",
   "id": "2ee6c48a",
   "metadata": {},
   "source": [
    "# Question 9\n",
    "Write a program to print skewness of the sample"
   ]
  },
  {
   "cell_type": "code",
   "execution_count": 15,
   "id": "4b471e40",
   "metadata": {},
   "outputs": [],
   "source": [
    "import pandas as pd\n",
    "import numpy as np\n",
    "from scipy import stats\n",
    "\n",
    "data=[1, 2, 3, 4, 5, 6, 7, 8, 9, 10, 20, 30, 40, 50, 60, 70, 80, 90, 100]"
   ]
  },
  {
   "cell_type": "code",
   "execution_count": 9,
   "id": "6a0444f9",
   "metadata": {},
   "outputs": [
    {
     "data": {
      "text/plain": [
       "0.8384612553577843"
      ]
     },
     "execution_count": 9,
     "metadata": {},
     "output_type": "execute_result"
    }
   ],
   "source": [
    "stats.skew(data)"
   ]
  },
  {
   "cell_type": "markdown",
   "id": "3e50c6a8",
   "metadata": {},
   "source": [
    "# Question 10\n",
    "Write a Program to print Histogram and distribution plot of the sample."
   ]
  },
  {
   "cell_type": "code",
   "execution_count": 16,
   "id": "5cb76b06",
   "metadata": {},
   "outputs": [
    {
     "name": "stdout",
     "output_type": "stream",
     "text": [
      "AxesSubplot(0.125,0.11;0.775x0.77)\n"
     ]
    },
    {
     "name": "stderr",
     "output_type": "stream",
     "text": [
      "C:\\Users\\ROHIT\\AppData\\Local\\Temp\\ipykernel_26064\\3664231287.py:7: UserWarning: \n",
      "\n",
      "`distplot` is a deprecated function and will be removed in seaborn v0.14.0.\n",
      "\n",
      "Please adapt your code to use either `displot` (a figure-level function with\n",
      "similar flexibility) or `histplot` (an axes-level function for histograms).\n",
      "\n",
      "For a guide to updating your code to use the new functions, please see\n",
      "https://gist.github.com/mwaskom/de44147ed2974457ad6372750bbe5751\n",
      "\n",
      "  print(sns.distplot(data, hist=True, kde=True,\n"
     ]
    },
    {
     "data": {
      "image/png": "[encoded data removed]",
      "text/plain": [
       "<Figure size 640x480 with 1 Axes>"
      ]
     },
     "metadata": {},
     "output_type": "display_data"
    }
   ],
   "source": [
    "import pandas as pd\n",
    "import numpy as np\n",
    "import matplotlib.pyplot as plt\n",
    "import seaborn as sns\n",
    "data=[1, 2, 3, 4, 5, 6, 7, 8, 9, 10, 20, 30, 40, 50, 60, 70, 80, 90, 100]\n",
    "\n",
    "print(sns.distplot(data, hist=True, kde=True,\n",
    "                 bins=int(180/5), color = 'darkblue', \n",
    "                 hist_kws={'edgecolor':'black'},\n",
    "                 kde_kws={'linewidth': 4}))"
   ]
  },
  {
   "cell_type": "markdown",
   "id": "fcfcf583",
   "metadata": {},
   "source": [
    "# Question 11\n",
    "Define the function generate_scores() that returns a normally-distributed dataset of\n",
    "student scores containing 200 records. We'll make a call to the function, and store the\n",
    "returned array in the variable scores_data."
   ]
  },
  {
   "cell_type": "code",
   "execution_count": 18,
   "id": "74e63dce",
   "metadata": {},
   "outputs": [],
   "source": [
    "import pandas as pd\n",
    "import numpy as np\n",
    "\n",
    "def generate_scores():\n",
    "    return np.random.normal(1,200,200)"
   ]
  },
  {
   "cell_type": "code",
   "execution_count": 19,
   "id": "9a0b2bf1",
   "metadata": {},
   "outputs": [
    {
     "name": "stdout",
     "output_type": "stream",
     "text": [
      "[  82.98004222 -107.18011129   12.63072627  299.60596302 -124.69186771\n",
      "  102.40490884 -222.14774277  130.97988134  215.4466445    22.87650773\n",
      "  434.11176457  -71.20576091 -111.32142427  -53.89325672  456.61094156\n",
      "  283.01859619 -233.90554378  -85.61028284  233.83016023 -120.3615201\n",
      "    4.52903944  -80.42198763  122.30237055   82.33642596    9.59244518\n",
      " -395.09839709  -50.200664    -43.3274736   -63.19515874  -48.5578668\n",
      "  -69.98587567  174.46595534   42.19012241 -119.76655866   50.06297496\n",
      " -250.83346829 -122.10124185  322.09069374  164.97946162  -77.90641673\n",
      "  384.74332164 -272.01506518 -178.18983211  -18.76776758  151.52189664\n",
      "  354.90931541 -233.86404289  -20.72879918  -93.53615114   44.47061929\n",
      "   67.74735015 -123.33900805    7.49977149 -310.76470075  309.36874389\n",
      "  -53.4963598    47.57075186 -335.32031046  242.28797308 -163.87994193\n",
      "    5.36992597  -48.98545437 -208.50999099  127.12109494  520.96927596\n",
      " -145.49069666 -224.76775468  262.40085273  120.39507609  -11.28790749\n",
      "  202.42140039  -61.23002152   68.16694246  154.56987206  -36.14411111\n",
      " -295.025841     10.18382052 -139.07670072  316.59966094  407.06905015\n",
      "  184.58570523 -333.07067561  346.82089274 -264.38123243 -110.59860942\n",
      "  -34.38637382  -10.75990504  -38.16123629  172.26282247  -25.28036594\n",
      "  251.19365149 -100.12473932   12.42609387  344.0949881  -224.11498789\n",
      "  222.9586816  -107.53783628   38.99339841 -134.14314503 -118.82240369\n",
      " -181.51047952  127.03684033 -215.63034451   43.30230448  302.44777049\n",
      " -283.05919883  311.64314718    5.79505448 -106.44281114  150.69707446\n",
      "  246.5432618  -150.59934684  159.53931474  -88.70254165  278.78933768\n",
      "  260.41467805  300.3977313   293.78718264 -110.73259404 -176.42360093\n",
      "  184.48046121 -303.39244953 -169.4739151   -19.29547681  233.95240937\n",
      "   85.76160878 -171.79045674  393.85372346   63.13980949 -293.74573132\n",
      " -110.60040398 -173.68236358  144.37484609 -107.61233542 -391.4365212\n",
      "    1.32338705   33.53177396 -124.84785331 -274.86033235  -43.17567385\n",
      "  208.29613124   63.38695733  177.74144151   91.38417839  190.90710722\n",
      "   97.22910142   28.80305739 -317.73498773  128.63356854 -273.09906167\n",
      " -463.14197056  -82.74488977   67.13427062 -163.11147126  329.95615315\n",
      " -105.26345845 -514.69938916  -73.70400247 -277.99272763  -52.80395642\n",
      " -208.89371046   44.57274067  -43.94503152   28.35076572  -79.37670513\n",
      " -560.55055089 -322.99328258 -268.76883982 -113.31619206   53.13829034\n",
      "  273.45049658  105.94346296   11.28331999  112.73841399  371.60394124\n",
      " -248.78687056  133.50290103 -100.12176127 -117.41026035  372.07395583\n",
      "  193.30812263   29.26135387  -59.7515133  -184.97902572  207.77147178\n",
      "  -24.95373491   43.64542752 -295.46482313  -50.11942635  271.87522446\n",
      " -259.64592211   23.91928035  211.85345266    2.11615519   17.21134339\n",
      "  194.25058187  331.38850184   27.29823772 -102.53950193   81.79367006]\n"
     ]
    }
   ],
   "source": [
    "scores_data=generate_scores()\n",
    "print(scores_data)"
   ]
  },
  {
   "cell_type": "markdown",
   "id": "773348aa",
   "metadata": {},
   "source": [
    "# Question 12\n",
    "Write a program to visualize the scores_data distribution also generate boxplot"
   ]
  },
  {
   "cell_type": "code",
   "execution_count": 20,
   "id": "d18a12c8",
   "metadata": {},
   "outputs": [
    {
     "data": {
      "text/plain": [
       "<AxesSubplot: >"
      ]
     },
     "execution_count": 20,
     "metadata": {},
     "output_type": "execute_result"
    },
    {
     "data": {
      "image/png": "[encoded data removed]",
      "text/plain": [
       "<Figure size 640x480 with 1 Axes>"
      ]
     },
     "metadata": {},
     "output_type": "display_data"
    }
   ],
   "source": [
    "import pandas as pd\n",
    "import numpy as np\n",
    "import matplotlib.pyplot as plt\n",
    "import seaborn as sns\n",
    "\n",
    "scores_data = (75, 10, 200)\n",
    "sns.boxplot(scores_data)"
   ]
  },
  {
   "cell_type": "markdown",
   "id": "5c201b82",
   "metadata": {},
   "source": [
    "# Question 13\n",
    "Load scores_data into pandas dataFrame and calculate mean and standard deviation"
   ]
  },
  {
   "cell_type": "code",
   "execution_count": 206,
   "id": "6abfd22b",
   "metadata": {},
   "outputs": [
    {
     "name": "stdout",
     "output_type": "stream",
     "text": [
      "mean: 0    4.285714\n",
      "dtype: float64\n",
      "std: <bound method NDFrame._add_numeric_operations.<locals>.std of    0\n",
      "0  2\n",
      "1  3\n",
      "2  4\n",
      "3  5\n",
      "4  7\n",
      "5  8\n",
      "6  1>\n"
     ]
    }
   ],
   "source": [
    "import pandas as pd\n",
    "import numpy as np\n",
    "scores_data=pd.DataFrame([2,3,4,5,7,8,1])\n",
    "print(\"mean:\",scores_data.mean())\n",
    "print(\"std:\",scores_data.std)\n"
   ]
  },
  {
   "cell_type": "markdown",
   "id": "b5da1242",
   "metadata": {},
   "source": [
    "# Question 14\n",
    "Write a program to set the lower limit (lower_limit) to be three standard deviations below\n",
    "the mean, and the upper limit (upper_limit) to be three standard deviations above the\n",
    "mean."
   ]
  },
  {
   "cell_type": "code",
   "execution_count": 207,
   "id": "aeac1fff",
   "metadata": {},
   "outputs": [],
   "source": [
    "import pandas as pd\n",
    "import numpy as np\n",
    "def limit(data):\n",
    "    mean=np.mean(data)\n",
    "    sd=np.std(data)\n",
    "    lower_limit=mean-3*sd\n",
    "    upper_limit=mean+3*sd\n",
    "    return lower_limit,upper_limit"
   ]
  },
  {
   "cell_type": "markdown",
   "id": "c7fe52d8",
   "metadata": {},
   "source": [
    "# Question 15\n",
    "\n",
    "Write a program to filter the dataframe df_scores to only retain the data points in the\n",
    "interval [lower_limit, upper_limit]"
   ]
  },
  {
   "cell_type": "code",
   "execution_count": 247,
   "id": "4a262c10",
   "metadata": {},
   "outputs": [],
   "source": [
    "import pandas as pd\n",
    "import numpy as np\n",
    "df_scores=pd.DataFrame([1,2,3,4,5,6,7,8,9,10,1000])"
   ]
  },
  {
   "cell_type": "code",
   "execution_count": 250,
   "id": "c16f66da",
   "metadata": {},
   "outputs": [],
   "source": [
    "def retain(df_scores):\n",
    "    data=sorted(df_scores)\n",
    "    q3,q1=np.percentile(df_scores,[75,25])\n",
    "    iqr=q3-q1\n",
    "    lower_limit=q1-1.5*iqr\n",
    "    upper_limit=q3+1.5*iqr\n",
    "    return df_scores[(df_scores[0]>lower_limit) & (df_scores[0]<upper_limit)]\n",
    "   "
   ]
  },
  {
   "cell_type": "code",
   "execution_count": 251,
   "id": "d13e5be8",
   "metadata": {},
   "outputs": [
    {
     "data": {
      "text/html": [
       "<div>\n",
       "<style scoped>\n",
       "    .dataframe tbody tr th:only-of-type {\n",
       "        vertical-align: middle;\n",
       "    }\n",
       "\n",
       "    .dataframe tbody tr th {\n",
       "        vertical-align: top;\n",
       "    }\n",
       "\n",
       "    .dataframe thead th {\n",
       "        text-align: right;\n",
       "    }\n",
       "</style>\n",
       "<table border=\"1\" class=\"dataframe\">\n",
       "  <thead>\n",
       "    <tr style=\"text-align: right;\">\n",
       "      <th></th>\n",
       "      <th>0</th>\n",
       "    </tr>\n",
       "  </thead>\n",
       "  <tbody>\n",
       "    <tr>\n",
       "      <th>0</th>\n",
       "      <td>1</td>\n",
       "    </tr>\n",
       "    <tr>\n",
       "      <th>1</th>\n",
       "      <td>2</td>\n",
       "    </tr>\n",
       "    <tr>\n",
       "      <th>2</th>\n",
       "      <td>3</td>\n",
       "    </tr>\n",
       "    <tr>\n",
       "      <th>3</th>\n",
       "      <td>4</td>\n",
       "    </tr>\n",
       "    <tr>\n",
       "      <th>4</th>\n",
       "      <td>5</td>\n",
       "    </tr>\n",
       "    <tr>\n",
       "      <th>5</th>\n",
       "      <td>6</td>\n",
       "    </tr>\n",
       "    <tr>\n",
       "      <th>6</th>\n",
       "      <td>7</td>\n",
       "    </tr>\n",
       "    <tr>\n",
       "      <th>7</th>\n",
       "      <td>8</td>\n",
       "    </tr>\n",
       "    <tr>\n",
       "      <th>8</th>\n",
       "      <td>9</td>\n",
       "    </tr>\n",
       "    <tr>\n",
       "      <th>9</th>\n",
       "      <td>10</td>\n",
       "    </tr>\n",
       "  </tbody>\n",
       "</table>\n",
       "</div>"
      ],
      "text/plain": [
       "    0\n",
       "0   1\n",
       "1   2\n",
       "2   3\n",
       "3   4\n",
       "4   5\n",
       "5   6\n",
       "6   7\n",
       "7   8\n",
       "8   9\n",
       "9  10"
      ]
     },
     "execution_count": 251,
     "metadata": {},
     "output_type": "execute_result"
    }
   ],
   "source": [
    "retain(df_scores)"
   ]
  },
  {
   "cell_type": "code",
   "execution_count": null,
   "id": "dc169dd7",
   "metadata": {},
   "outputs": [],
   "source": []
  }
 ],
 "metadata": {
  "kernelspec": {
   "display_name": "Python 3 (ipykernel)",
   "language": "python",
   "name": "python3"
  },
  "language_info": {
   "codemirror_mode": {
    "name": "ipython",
    "version": 3
   },
   "file_extension": ".py",
   "mimetype": "text/x-python",
   "name": "python",
   "nbconvert_exporter": "python",
   "pygments_lexer": "ipython3",
   "version": "3.9.13"
  }
 },
 "nbformat": 4,
 "nbformat_minor": 5
}
